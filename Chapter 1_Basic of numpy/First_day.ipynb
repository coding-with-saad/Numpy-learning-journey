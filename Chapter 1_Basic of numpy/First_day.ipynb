{
 "cells": [
  {
   "cell_type": "markdown",
   "id": "6a81e109",
   "metadata": {},
   "source": [
    "1D array"
   ]
  },
  {
   "cell_type": "code",
   "execution_count": 12,
   "id": "4b58e0d5",
   "metadata": {},
   "outputs": [
    {
     "name": "stdout",
     "output_type": "stream",
     "text": [
      "[1 2 3 4 5]\n"
     ]
    }
   ],
   "source": [
    "import numpy as np\n",
    "arr_1d = np.array([1, 2, 3, 4, 5])\n",
    "print(arr_1d)\n"
   ]
  },
  {
   "cell_type": "markdown",
   "id": "d98b2505",
   "metadata": {},
   "source": [
    "2D Array"
   ]
  },
  {
   "cell_type": "code",
   "execution_count": null,
   "id": "c450aec7",
   "metadata": {},
   "outputs": [
    {
     "name": "stdout",
     "output_type": "stream",
     "text": [
      "[[1 2 3]\n",
      " [4 5 6]\n",
      " [7 8 9]]\n"
     ]
    }
   ],
   "source": [
    "import numpy as np\n",
    "arr_2d=np.array([[1,2,3],[4,5,6],[7,8,9]])\n",
    "print(arr_2d)"
   ]
  },
  {
   "cell_type": "markdown",
   "id": "eeaa9ec8",
   "metadata": {},
   "source": [
    "Multi dimensional Array"
   ]
  },
  {
   "cell_type": "code",
   "execution_count": null,
   "id": "3adb3335",
   "metadata": {},
   "outputs": [
    {
     "name": "stdout",
     "output_type": "stream",
     "text": [
      "[[1 2 3]\n",
      " [4 5 6]\n",
      " [7 8 9]]\n"
     ]
    },
    {
     "data": {
      "text/plain": [
       "'\\nsame as 2d array write in row and column form\\n'"
      ]
     },
     "execution_count": 2,
     "metadata": {},
     "output_type": "execute_result"
    }
   ],
   "source": [
    "import numpy as np\n",
    "arr_2d=np.array([[1,2,3],[4,5,6],[7,8,9]])\n",
    "print(arr_2d)\n",
    "\n",
    "\"\"\"\n",
    "same as 2d array write in row and column form\n",
    "\"\"\""
   ]
  },
  {
   "cell_type": "code",
   "execution_count": null,
   "id": "e123958e",
   "metadata": {},
   "outputs": [
    {
     "name": "stdout",
     "output_type": "stream",
     "text": [
      "[1 2 4 5]\n"
     ]
    }
   ],
   "source": [
    "import numpy as np\n",
    "arr=np.array([1,2,4,5])\n",
    "print(arr)"
   ]
  },
  {
   "cell_type": "markdown",
   "id": "3227f921",
   "metadata": {},
   "source": [
    "with default value(zero shape)"
   ]
  },
  {
   "cell_type": "code",
   "execution_count": null,
   "id": "e329f377",
   "metadata": {},
   "outputs": [
    {
     "name": "stdout",
     "output_type": "stream",
     "text": [
      "[0. 0. 0.]\n"
     ]
    }
   ],
   "source": [
    "import numpy as np\n",
    "zero=np.zeros(3)\n",
    "print(zero)"
   ]
  },
  {
   "cell_type": "markdown",
   "id": "3b5a1a4e",
   "metadata": {},
   "source": [
    "for ones shape"
   ]
  },
  {
   "cell_type": "code",
   "execution_count": null,
   "id": "a98e681d",
   "metadata": {},
   "outputs": [
    {
     "name": "stdout",
     "output_type": "stream",
     "text": [
      "[[1. 1. 1. 1.]\n",
      " [1. 1. 1. 1.]\n",
      " [1. 1. 1. 1.]]\n"
     ]
    }
   ],
   "source": [
    "import numpy as np\n",
    "one=np.ones((3,4))\n",
    "print(one)"
   ]
  },
  {
   "cell_type": "markdown",
   "id": "34056208",
   "metadata": {},
   "source": [
    "full shape value"
   ]
  },
  {
   "cell_type": "code",
   "execution_count": null,
   "id": "5eda2e12",
   "metadata": {},
   "outputs": [
    {
     "name": "stdout",
     "output_type": "stream",
     "text": [
      "[[7 7 7 7]\n",
      " [7 7 7 7]\n",
      " [7 7 7 7]]\n"
     ]
    }
   ],
   "source": [
    "import numpy as np\n",
    "fullid_array=np.full((3,4),7)\n",
    "print(fullid_array)"
   ]
  },
  {
   "cell_type": "markdown",
   "id": "56e9aca9",
   "metadata": {},
   "source": [
    "Creating sequence of numbers in numpy<br>\n",
    "Arrange<br>\n",
    "Arrangs start stop step"
   ]
  },
  {
   "cell_type": "code",
   "execution_count": 10,
   "id": "322fb2e1",
   "metadata": {},
   "outputs": [
    {
     "name": "stdout",
     "output_type": "stream",
     "text": [
      "[1 3 5 7 9]\n"
     ]
    }
   ],
   "source": [
    "import numpy as np\n",
    "arr=np.arange(1,10,2)\n",
    "print(arr)"
   ]
  },
  {
   "cell_type": "markdown",
   "id": "465f35a8",
   "metadata": {},
   "source": [
    "Create identity matrix\n",
    "eye size"
   ]
  },
  {
   "cell_type": "code",
   "execution_count": 11,
   "id": "e46e6ec6",
   "metadata": {},
   "outputs": [
    {
     "name": "stdout",
     "output_type": "stream",
     "text": [
      "[[1. 0. 0. 0.]\n",
      " [0. 1. 0. 0.]\n",
      " [0. 0. 1. 0.]\n",
      " [0. 0. 0. 1.]]\n"
     ]
    }
   ],
   "source": [
    "import numpy as np\n",
    "iden_array=np.eye(4)\n",
    "print(iden_array)"
   ]
  },
  {
   "cell_type": "markdown",
   "id": "7ced279d",
   "metadata": {},
   "source": [
    "| Function      | Purpose                     | Example    | Output shape |\n",
    "| ------------- | --------------------------- | ---------- | ------------ |\n",
    "| `np.array()`  | Make array from list        | `[1,2,3]`  | same as list |\n",
    "| `np.zeros()`  | All elements = 0            | `(2,3)`    | 2×3          |\n",
    "| `np.ones()`   | All elements = 1            | `(3,2)`    | 3×2          |\n",
    "| `np.full()`   | All elements = custom value | `(2,3), 5` | 2×3          |\n",
    "| `np.arange()` | Range of numbers            | `(1,10,2)` | 1D           |\n",
    "| `np.eye()`    | Identity matrix             | `(3)`      | 3×3          |\n"
   ]
  }
 ],
 "metadata": {
  "kernelspec": {
   "display_name": "Python 3",
   "language": "python",
   "name": "python3"
  },
  "language_info": {
   "codemirror_mode": {
    "name": "ipython",
    "version": 3
   },
   "file_extension": ".py",
   "mimetype": "text/x-python",
   "name": "python",
   "nbconvert_exporter": "python",
   "pygments_lexer": "ipython3",
   "version": "3.12.7"
  }
 },
 "nbformat": 4,
 "nbformat_minor": 5
}
